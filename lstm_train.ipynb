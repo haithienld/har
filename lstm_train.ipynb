{
 "cells": [
  {
   "cell_type": "code",
   "execution_count": 1,
   "id": "outside-howard",
   "metadata": {},
   "outputs": [],
   "source": [
    "%matplotlib inline\n",
    "import numpy as np"
   ]
  },
  {
   "cell_type": "markdown",
   "id": "imported-joseph",
   "metadata": {},
   "source": [
    "### Data Loading"
   ]
  },
  {
   "cell_type": "code",
   "execution_count": 2,
   "id": "progressive-internet",
   "metadata": {},
   "outputs": [],
   "source": [
    "# Useful Constants\n",
    "# Output classes to learn how to classify\n",
    "LABELS = [    \n",
    "    \"JUMPING\",\n",
    "    \"JUMPING_JACKS\",\n",
    "    \"BOXING\",\n",
    "    \"WAVING_2HANDS\",\n",
    "    \"WAVING_1HAND\",\n",
    "    \"CLAPPING_HANDS\"\n",
    "\n",
    "] \n",
    "DATASET_PATH = \"data/HAR_pose_activities/database/\"\n",
    "\n",
    "X_train_path = DATASET_PATH + \"X_train.txt\"\n",
    "X_test_path = DATASET_PATH + \"X_test.txt\"\n",
    "\n",
    "y_train_path = DATASET_PATH + \"Y_train.txt\"\n",
    "y_test_path = DATASET_PATH + \"Y_test.txt\"\n",
    "\n",
    "n_steps = 32 # 32 timesteps per series\n",
    "n_categories = len(LABELS)\n"
   ]
  },
  {
   "cell_type": "code",
   "execution_count": 3,
   "id": "consistent-valuation",
   "metadata": {},
   "outputs": [],
   "source": [
    "# Load the networks inputs\n",
    "\n",
    "def load_X(X_path):\n",
    "    file = open(X_path, 'r')\n",
    "    X_ = np.array(\n",
    "        [elem for elem in [\n",
    "            row.split(',') for row in file\n",
    "        ]], \n",
    "        dtype=np.float32\n",
    "    )\n",
    "    file.close()\n",
    "    blocks = int(len(X_) / n_steps)\n",
    "    \n",
    "    X_ = np.array(np.split(X_,blocks))\n",
    "\n",
    "    return X_ \n",
    "\n",
    "# Load the networks outputs\n",
    "def load_y(y_path):\n",
    "    file = open(y_path, 'r')\n",
    "    y_ = np.array(\n",
    "        [elem for elem in [\n",
    "            row.replace('  ', ' ').strip().split(' ') for row in file\n",
    "        ]], \n",
    "        dtype=np.int32\n",
    "    )\n",
    "    file.close()\n",
    "    \n",
    "    # for 0-based indexing \n",
    "    return y_ - 1\n",
    "\n",
    "X_train = load_X(X_train_path)\n",
    "X_test = load_X(X_test_path)\n",
    "\n",
    "y_train = load_y(y_train_path)\n",
    "y_test = load_y(y_test_path)\n"
   ]
  },
  {
   "cell_type": "markdown",
   "id": "objective-software",
   "metadata": {},
   "source": [
    "### Pre-Process"
   ]
  },
  {
   "cell_type": "code",
   "execution_count": 5,
   "id": "median-renewal",
   "metadata": {},
   "outputs": [
    {
     "name": "stdout",
     "output_type": "stream",
     "text": [
      "test_data_size: torch.Size([5751, 32, 36])\n",
      "test_label_size: torch.Size([5751, 1])\n",
      "n_data_size_test: 5751\n",
      "train_data_size: torch.Size([22625, 32, 36])\n",
      "train_label_size: torch.Size([22625, 1])\n",
      "n_data_size_train: 22625\n"
     ]
    }
   ],
   "source": [
    "import torch\n",
    "\n",
    "tensor_X_test = torch.from_numpy(X_test)\n",
    "print('test_data_size:',tensor_X_test.size())\n",
    "tensor_y_test = torch.from_numpy(y_test)\n",
    "print('test_label_size:',tensor_y_test.size())\n",
    "n_data_size_test = tensor_X_test.size()[0]\n",
    "print('n_data_size_test:',n_data_size_test)\n",
    "\n",
    "tensor_X_train = torch.from_numpy(X_train)\n",
    "print('train_data_size:',tensor_X_train.size())\n",
    "tensor_y_train = torch.from_numpy(y_train)\n",
    "print('train_label_size:',tensor_y_train.size())\n",
    "n_data_size_train = tensor_X_train.size()[0]\n",
    "print('n_data_size_train:',n_data_size_train)\n"
   ]
  },
  {
   "cell_type": "code",
   "execution_count": 6,
   "id": "lesser-costa",
   "metadata": {},
   "outputs": [],
   "source": [
    "import torch.nn as nn\n",
    "device = torch.device('cuda') if torch.cuda.is_available() else torch.device('cpu')\n",
    "class LSTM(nn.Module):\n",
    "    \n",
    "    def __init__(self,input_dim,hidden_dim,output_dim,layer_num):\n",
    "        super(LSTM,self).__init__()\n",
    "        self.hidden_dim = hidden_dim\n",
    "        self.output_dim = output_dim\n",
    "        self.lstm = torch.nn.LSTM(input_dim,hidden_dim,layer_num,batch_first=True)\n",
    "        self.fc = torch.nn.Linear(hidden_dim,output_dim)\n",
    "        self.bn = nn.BatchNorm1d(32)\n",
    "        \n",
    "    def forward(self,inputs):\n",
    "        x = self.bn(inputs)\n",
    "        lstm_out,(hn,cn) = self.lstm(x)\n",
    "        out = self.fc(lstm_out[:,-1,:])\n",
    "        return out\n",
    "\n"
   ]
  },
  {
   "cell_type": "code",
   "execution_count": 7,
   "id": "elect-bread",
   "metadata": {},
   "outputs": [
    {
     "data": {
      "text/plain": [
       "LSTM(\n",
       "  (lstm): LSTM(36, 128, num_layers=3, batch_first=True)\n",
       "  (fc): Linear(in_features=128, out_features=6, bias=True)\n",
       "  (bn): BatchNorm1d(32, eps=1e-05, momentum=0.1, affine=True, track_running_stats=True)\n",
       ")"
      ]
     },
     "execution_count": 7,
     "metadata": {},
     "output_type": "execute_result"
    }
   ],
   "source": [
    "n_hidden = 128\n",
    "n_joints = 18*2\n",
    "n_categories = 6\n",
    "n_layer = 3\n",
    "rnn = LSTM(n_joints,n_hidden,n_categories,n_layer)\n",
    "rnn.to(device)\n"
   ]
  },
  {
   "cell_type": "code",
   "execution_count": 8,
   "id": "helpful-percentage",
   "metadata": {},
   "outputs": [],
   "source": [
    "def categoryFromOutput(output):\n",
    "    top_n, top_i = output.topk(1)\n",
    "    category_i = top_i[0].item()\n",
    "    return LABELS[category_i], category_i\n"
   ]
  },
  {
   "cell_type": "markdown",
   "id": "regulation-timothy",
   "metadata": {},
   "source": [
    "### Getting Random Data"
   ]
  },
  {
   "cell_type": "code",
   "execution_count": 9,
   "id": "cleared-piece",
   "metadata": {},
   "outputs": [],
   "source": [
    "import random\n",
    "def randomTrainingExampleBatch(batch_size,flag,num=-1):\n",
    "    if flag == 'train':\n",
    "        X = tensor_X_train\n",
    "        y = tensor_y_train\n",
    "        data_size = n_data_size_train\n",
    "    elif flag == 'test':\n",
    "        X = tensor_X_test\n",
    "        y = tensor_y_test\n",
    "        data_size = n_data_size_test\n",
    "    if num == -1:\n",
    "        ran_num = random.randint(0,data_size-batch_size)\n",
    "    else:\n",
    "        ran_num = num\n",
    "    pose_sequence_tensor = X[ran_num:(ran_num+batch_size)]\n",
    "    pose_sequence_tensor = pose_sequence_tensor\n",
    "    category_tensor = y[ran_num:ran_num+batch_size,:]\n",
    "    return category_tensor.long(),pose_sequence_tensor\n"
   ]
  },
  {
   "cell_type": "markdown",
   "id": "wicked-symbol",
   "metadata": {},
   "source": [
    "### Training"
   ]
  },
  {
   "cell_type": "code",
   "execution_count": null,
   "id": "accurate-vampire",
   "metadata": {},
   "outputs": [],
   "source": [
    "#try:\n",
    "#    rnn.load_state_dict(torch.load('lstm_6.pkl'))\n",
    "#except:\n",
    "#    print('no pkl')"
   ]
  },
  {
   "cell_type": "code",
   "execution_count": 10,
   "id": "derived-classics",
   "metadata": {},
   "outputs": [
    {
     "name": "stdout",
     "output_type": "stream",
     "text": [
      "1000 1% (0m 5s) 1.8904  / WAVING_1HAND ✗ (JUMPING_JACKS)\n",
      "2000 2% (0m 10s) 1.4686  / WAVING_1HAND ✓\n",
      "3000 3% (0m 15s) 1.4208  / WAVING_1HAND ✓\n",
      "4000 4% (0m 20s) 1.4189  / WAVING_1HAND ✓\n",
      "5000 5% (0m 25s) 1.4550  / WAVING_1HAND ✓\n",
      "6000 6% (0m 30s) 2.2899  / WAVING_1HAND ✗ (CLAPPING_HANDS)\n",
      "7000 7% (0m 35s) 1.5522  / WAVING_1HAND ✗ (WAVING_2HANDS)\n",
      "8000 8% (0m 40s) 1.4119  / BOXING ✗ (WAVING_2HANDS)\n",
      "9000 9% (0m 45s) 2.0252  / WAVING_1HAND ✗ (JUMPING)\n",
      "10000 10% (0m 50s) 1.2578  / BOXING ✓\n",
      "11000 11% (0m 55s) 2.6839  / WAVING_2HANDS ✗ (JUMPING)\n",
      "12000 12% (1m 0s) 1.5640  / WAVING_2HANDS ✗ (JUMPING)\n",
      "13000 13% (1m 5s) 1.1057  / WAVING_2HANDS ✓\n",
      "14000 14% (1m 10s) 1.1142  / BOXING ✓\n",
      "15000 15% (1m 15s) 0.0153  / WAVING_1HAND ✓\n",
      "16000 16% (1m 20s) 0.0119  / WAVING_1HAND ✓\n",
      "17000 17% (1m 25s) 0.7197  / WAVING_2HANDS ✗ (JUMPING_JACKS)\n",
      "18000 18% (1m 30s) 0.3766  / BOXING ✓\n",
      "19000 19% (1m 35s) 0.6012  / WAVING_2HANDS ✓\n",
      "20000 20% (1m 40s) 0.1321  / BOXING ✓\n",
      "21000 21% (1m 45s) 1.2081  / WAVING_2HANDS ✗ (JUMPING_JACKS)\n",
      "22000 22% (1m 50s) 0.3003  / WAVING_2HANDS ✓\n",
      "23000 23% (1m 55s) 0.2861  / BOXING ✓\n",
      "24000 24% (2m 0s) 0.1174  / WAVING_1HAND ✓\n",
      "25000 25% (2m 5s) 0.8789  / WAVING_2HANDS ✓\n",
      "26000 26% (2m 10s) 0.1011  / BOXING ✓\n",
      "27000 27% (2m 15s) 0.0754  / JUMPING ✓\n",
      "28000 28% (2m 21s) 0.1082  / WAVING_2HANDS ✓\n",
      "29000 28% (2m 26s) 0.2841  / JUMPING ✓\n",
      "30000 30% (2m 31s) 0.0462  / BOXING ✓\n",
      "31000 31% (2m 36s) 0.1185  / JUMPING_JACKS ✓\n",
      "32000 32% (2m 41s) 0.1284  / JUMPING_JACKS ✓\n",
      "33000 33% (2m 46s) 0.0506  / JUMPING_JACKS ✓\n",
      "34000 34% (2m 51s) 0.0540  / JUMPING ✓\n",
      "35000 35% (2m 56s) 0.3683  / JUMPING ✓\n",
      "36000 36% (3m 0s) 0.0265  / BOXING ✓\n",
      "37000 37% (3m 5s) 0.2625  / WAVING_1HAND ✓\n",
      "38000 38% (3m 10s) 0.0651  / WAVING_1HAND ✓\n",
      "39000 39% (3m 15s) 0.0013  / WAVING_1HAND ✓\n",
      "40000 40% (3m 20s) 0.0094  / WAVING_2HANDS ✓\n",
      "41000 41% (3m 25s) 0.0675  / WAVING_1HAND ✓\n",
      "42000 42% (3m 30s) 0.0967  / JUMPING_JACKS ✓\n",
      "43000 43% (3m 35s) 0.0057  / WAVING_2HANDS ✓\n",
      "44000 44% (3m 39s) 0.0373  / WAVING_1HAND ✓\n",
      "45000 45% (3m 44s) 0.0094  / WAVING_1HAND ✓\n",
      "46000 46% (3m 49s) 0.1450  / BOXING ✓\n",
      "47000 47% (3m 54s) 0.0076  / JUMPING ✓\n",
      "48000 48% (3m 59s) 0.0233  / BOXING ✓\n",
      "49000 49% (4m 4s) 0.0010  / WAVING_1HAND ✓\n",
      "50000 50% (4m 9s) 0.0014  / WAVING_2HANDS ✓\n",
      "51000 51% (4m 14s) 0.0009  / WAVING_1HAND ✓\n",
      "52000 52% (4m 19s) 0.0022  / WAVING_1HAND ✓\n",
      "53000 53% (4m 23s) 0.0895  / JUMPING_JACKS ✓\n",
      "54000 54% (4m 28s) 0.0101  / JUMPING_JACKS ✓\n",
      "55000 55% (4m 33s) 0.0324  / BOXING ✓\n",
      "56000 56% (4m 38s) 0.0015  / WAVING_1HAND ✓\n",
      "57000 56% (4m 43s) 0.1673  / BOXING ✓\n",
      "58000 57% (4m 48s) 0.0076  / BOXING ✓\n",
      "59000 59% (4m 53s) 0.0283  / BOXING ✓\n",
      "60000 60% (4m 58s) 0.0040  / BOXING ✓\n",
      "61000 61% (5m 3s) 0.0007  / WAVING_1HAND ✓\n",
      "62000 62% (5m 7s) 0.0037  / JUMPING ✓\n",
      "63000 63% (5m 12s) 0.0060  / BOXING ✓\n",
      "64000 64% (5m 17s) 0.0029  / JUMPING_JACKS ✓\n",
      "65000 65% (5m 22s) 0.0040  / JUMPING_JACKS ✓\n",
      "66000 66% (5m 27s) 0.0399  / JUMPING ✓\n",
      "67000 67% (5m 32s) 0.0094  / WAVING_2HANDS ✓\n",
      "68000 68% (5m 37s) 0.0177  / BOXING ✓\n",
      "69000 69% (5m 42s) 0.0049  / WAVING_2HANDS ✓\n",
      "70000 70% (5m 47s) 0.0394  / JUMPING ✓\n",
      "71000 71% (5m 52s) 0.0065  / WAVING_1HAND ✓\n",
      "72000 72% (5m 57s) 0.0048  / JUMPING_JACKS ✓\n",
      "73000 73% (6m 1s) 0.0196  / WAVING_2HANDS ✗ (JUMPING_JACKS)\n",
      "74000 74% (6m 6s) 0.0005  / WAVING_1HAND ✓\n",
      "75000 75% (6m 11s) 0.0144  / JUMPING_JACKS ✓\n",
      "76000 76% (6m 16s) 0.0017  / BOXING ✓\n",
      "77000 77% (6m 21s) 0.0024  / JUMPING_JACKS ✓\n",
      "78000 78% (6m 26s) 0.0053  / BOXING ✓\n",
      "79000 79% (6m 31s) 0.0401  / BOXING ✓\n",
      "80000 80% (6m 36s) 0.0006  / WAVING_2HANDS ✓\n",
      "81000 81% (6m 41s) 0.0144  / BOXING ✓\n",
      "82000 82% (6m 45s) 0.0005  / WAVING_1HAND ✓\n",
      "83000 83% (6m 50s) 0.0017  / JUMPING_JACKS ✓\n",
      "84000 84% (6m 55s) 0.0006  / WAVING_2HANDS ✓\n",
      "85000 85% (7m 0s) 0.0062  / WAVING_2HANDS ✓\n",
      "86000 86% (7m 5s) 0.0005  / WAVING_2HANDS ✓\n",
      "87000 87% (7m 10s) 0.0028  / WAVING_1HAND ✓\n",
      "88000 88% (7m 15s) 0.0006  / WAVING_1HAND ✓\n",
      "89000 89% (7m 20s) 0.0075  / BOXING ✓\n",
      "90000 90% (7m 25s) 0.0006  / WAVING_2HANDS ✓\n",
      "91000 91% (7m 30s) 0.0131  / BOXING ✓\n",
      "92000 92% (7m 34s) 0.0016  / WAVING_2HANDS ✓\n",
      "93000 93% (7m 39s) 0.0007  / WAVING_2HANDS ✓\n",
      "94000 94% (7m 44s) 0.0028  / JUMPING_JACKS ✓\n",
      "95000 95% (7m 49s) 0.0047  / JUMPING ✓\n",
      "96000 96% (7m 54s) 0.0142  / CLAPPING_HANDS ✓\n",
      "97000 97% (7m 59s) 0.0120  / CLAPPING_HANDS ✓\n",
      "98000 98% (8m 4s) 0.0014  / JUMPING ✓\n",
      "99000 99% (8m 9s) 0.0008  / JUMPING_JACKS ✓\n",
      "100000 100% (8m 14s) 0.0015  / JUMPING ✓\n"
     ]
    }
   ],
   "source": [
    "import torch.optim as optim\n",
    "import time\n",
    "import math\n",
    "\n",
    "criterion = nn.CrossEntropyLoss()\n",
    "learning_rate = 0.0005\n",
    "optimizer = optim.SGD(rnn.parameters(),lr=learning_rate,momentum=0.9)\n",
    "#scheduler = optim.lr_scheduler.StepLR(optimizer, step_size=10000, gamma=0.1)\n",
    "\n",
    "n_iters = 100000\n",
    "#n_iters = 60000\n",
    "print_every = 1000\n",
    "plot_every = 1000\n",
    "batch_size = 128\n",
    "\n",
    "# Keep track of losses for plotting\n",
    "current_loss = 0\n",
    "all_losses = []\n",
    "\n",
    "def timeSince(since):\n",
    "    now = time.time()\n",
    "    s = now - since\n",
    "    m = math.floor(s / 60)\n",
    "    s -= m * 60\n",
    "    return '%dm %ds' % (m, s)\n",
    "\n",
    "start = time.time()\n",
    "\n",
    "for iter in range(1, n_iters + 1):\n",
    "   \n",
    "    category_tensor, input_sequence = randomTrainingExampleBatch(batch_size,'train')\n",
    "    input_sequence = input_sequence.to(device)\n",
    "    category_tensor = category_tensor.to(device)\n",
    "    category_tensor = torch.squeeze(category_tensor)\n",
    "    \n",
    "    optimizer.zero_grad()\n",
    "    \n",
    "    output = rnn(input_sequence)\n",
    "    loss = criterion(output, category_tensor)\n",
    "    loss.backward()\n",
    "    optimizer.step() \n",
    "    #scheduler.step()\n",
    "    \n",
    "    #如果tensor只有一个元素,那么可以用.item()的方法取出这个元素作为普通的python数字.\n",
    "    current_loss += loss.item()\n",
    "    \n",
    "    category = LABELS[int(category_tensor[0])]\n",
    "\n",
    "    # Print iter number, loss, name and guess\n",
    "    if iter % print_every == 0:\n",
    "        guess, guess_i = categoryFromOutput(output)\n",
    "        correct = '✓' if guess == category else '✗ (%s)' % category\n",
    "        print('%d %d%% (%s) %.4f  / %s %s' % (iter, iter / n_iters * 100, timeSince(start), loss, guess, correct))\n",
    "        \n",
    "    # Add current loss avg to list of losses\n",
    "    if iter % plot_every == 0:\n",
    "        all_losses.append(current_loss / plot_every)\n",
    "        current_loss = 0\n"
   ]
  },
  {
   "cell_type": "code",
   "execution_count": null,
   "id": "dental-blade",
   "metadata": {},
   "outputs": [],
   "source": [
    "torch.save(rnn.state_dict(),'lstm_6_bn.pkl')"
   ]
  },
  {
   "cell_type": "code",
   "execution_count": null,
   "id": "novel-unemployment",
   "metadata": {},
   "outputs": [],
   "source": [
    "import matplotlib.pyplot as plt\n",
    "import matplotlib.ticker as ticker\n",
    "\n",
    "plt.figure()\n",
    "plt.plot(all_losses)"
   ]
  },
  {
   "cell_type": "markdown",
   "id": "useful-behavior",
   "metadata": {},
   "source": [
    "### Testing"
   ]
  },
  {
   "cell_type": "code",
   "execution_count": null,
   "id": "hindu-hearts",
   "metadata": {},
   "outputs": [],
   "source": [
    "def test(flag):\n",
    "    if flag == 'train':\n",
    "        n = n_data_size_train\n",
    "    elif flag == 'test':\n",
    "        n = n_data_size_test   \n",
    "        \n",
    "    with torch.no_grad():\n",
    "        right = 0\n",
    "        for i in range(n):\n",
    "            category_tensor, inputs = randomTrainingExampleBatch(1,flag,i)\n",
    "            category = LABELS[int(category_tensor[0])]\n",
    "            inputs = inputs.to(device)\n",
    "            output = rnn(inputs)\n",
    "            guess, guess_i = categoryFromOutput(output)\n",
    "            category_i = LABELS.index(category)\n",
    "            if category_i == guess_i:\n",
    "                right+=1\n",
    "    print(flag,'accuracy',right/n)"
   ]
  },
  {
   "cell_type": "code",
   "execution_count": null,
   "id": "compressed-building",
   "metadata": {},
   "outputs": [],
   "source": [
    "test('test')"
   ]
  },
  {
   "cell_type": "code",
   "execution_count": null,
   "id": "elect-landscape",
   "metadata": {},
   "outputs": [],
   "source": [
    "test('train')"
   ]
  },
  {
   "cell_type": "code",
   "execution_count": null,
   "id": "athletic-commons",
   "metadata": {},
   "outputs": [],
   "source": [
    "# Keep track of correct guesses in a confusion matrix\n",
    "confusion = torch.zeros(n_categories, n_categories)\n",
    "n_confusion = n_data_size_test\n",
    "\n",
    "# Go through a bunch of examples and record which are correctly guessed\n",
    "for i in range(n_confusion):\n",
    "    category_tensor, inputs = randomTrainingExampleBatch(1,'test',i)\n",
    "    category = LABELS[int(category_tensor[0])]\n",
    "    inputs = inputs.to(device)\n",
    "    output = rnn(inputs)\n",
    "    guess, guess_i = categoryFromOutput(output)\n",
    "    category_i = LABELS.index(category)\n",
    "    confusion[category_i][guess_i] += 1\n",
    "     \n",
    "# Normalize by dividing every row by its sum\n",
    "for i in range(n_categories):\n",
    "    confusion[i] = confusion[i] / confusion[i].sum()\n",
    "\n",
    "# Set up plot\n",
    "fig = plt.figure()\n",
    "ax = fig.add_subplot(111)\n",
    "cax = ax.matshow(confusion.numpy())\n",
    "fig.colorbar(cax)\n",
    "\n",
    "# Set up axes\n",
    "ax.set_xticklabels([''] + LABELS, rotation=90)\n",
    "ax.set_yticklabels([''] + LABELS)\n",
    "\n",
    "# Force label at every tick\n",
    "ax.xaxis.set_major_locator(ticker.MultipleLocator(1))\n",
    "ax.yaxis.set_major_locator(ticker.MultipleLocator(1))\n",
    "\n",
    "# sphinx_gallery_thumbnail_number = 2\n",
    "plt.show()"
   ]
  }
 ],
 "metadata": {
  "kernelspec": {
   "display_name": "Python 3",
   "language": "python",
   "name": "python3"
  },
  "language_info": {
   "codemirror_mode": {
    "name": "ipython",
    "version": 3
   },
   "file_extension": ".py",
   "mimetype": "text/x-python",
   "name": "python",
   "nbconvert_exporter": "python",
   "pygments_lexer": "ipython3",
   "version": "3.6.12"
  }
 },
 "nbformat": 4,
 "nbformat_minor": 5
}
